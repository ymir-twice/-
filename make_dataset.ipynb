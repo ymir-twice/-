{
 "cells": [
  {
   "cell_type": "markdown",
   "metadata": {},
   "source": [
    "# 描述性统计\n",
    "此模块目的在于对竞赛下发的数据集进行描述性统计。"
   ]
  },
  {
   "cell_type": "code",
   "execution_count": 1,
   "metadata": {},
   "outputs": [
    {
     "data": {
      "text/html": [
       "<div>\n",
       "<style scoped>\n",
       "    .dataframe tbody tr th:only-of-type {\n",
       "        vertical-align: middle;\n",
       "    }\n",
       "\n",
       "    .dataframe tbody tr th {\n",
       "        vertical-align: top;\n",
       "    }\n",
       "\n",
       "    .dataframe thead th {\n",
       "        text-align: right;\n",
       "    }\n",
       "</style>\n",
       "<table border=\"1\" class=\"dataframe\">\n",
       "  <thead>\n",
       "    <tr style=\"text-align: right;\">\n",
       "      <th></th>\n",
       "      <th>id</th>\n",
       "    </tr>\n",
       "  </thead>\n",
       "  <tbody>\n",
       "    <tr>\n",
       "      <th>0</th>\n",
       "      <td>1000201</td>\n",
       "    </tr>\n",
       "    <tr>\n",
       "      <th>1</th>\n",
       "      <td>1000202</td>\n",
       "    </tr>\n",
       "    <tr>\n",
       "      <th>2</th>\n",
       "      <td>1000203</td>\n",
       "    </tr>\n",
       "    <tr>\n",
       "      <th>3</th>\n",
       "      <td>1000204</td>\n",
       "    </tr>\n",
       "    <tr>\n",
       "      <th>4</th>\n",
       "      <td>1000205</td>\n",
       "    </tr>\n",
       "  </tbody>\n",
       "</table>\n",
       "</div>"
      ],
      "text/plain": [
       "        id\n",
       "0  1000201\n",
       "1  1000202\n",
       "2  1000203\n",
       "3  1000204\n",
       "4  1000205"
      ]
     },
     "execution_count": 1,
     "metadata": {},
     "output_type": "execute_result"
    }
   ],
   "source": [
    "import os\n",
    "import pandas as pd\n",
    "\n",
    "train_ori_dir = 'data/images/training_ori/'\n",
    "train_dir = 'data/images/training/'\n",
    "test_dir = 'data/images/testB3/'\n",
    "\n",
    "impost = {'f': '.jpg', 'l': '.png'}\n",
    "trainfiles = [_.split('.')[0] for _ in os.listdir(train_ori_dir)]\n",
    "testfiles = [_.split('.')[0] for _ in os.listdir(test_dir)]\n",
    "trainmeta = pd.DataFrame({'id': trainfiles}).sort_values('id').reset_index(drop=True)\n",
    "testmeta = pd.DataFrame({'id': testfiles}).sort_values('id').reset_index(drop=True)\n",
    "trainmeta.head()"
   ]
  },
  {
   "cell_type": "markdown",
   "metadata": {},
   "source": [
    "样本量非常少"
   ]
  },
  {
   "cell_type": "code",
   "execution_count": 2,
   "metadata": {},
   "outputs": [
    {
     "name": "stdout",
     "output_type": "stream",
     "text": [
      "训练集:  (4470, 1)\n",
      "测试集:  (800, 1)\n"
     ]
    }
   ],
   "source": [
    "print(\"训练集: \", trainmeta.shape)\n",
    "print(\"测试集: \", testmeta.shape)"
   ]
  },
  {
   "cell_type": "code",
   "execution_count": 3,
   "metadata": {},
   "outputs": [
    {
     "data": {
      "text/html": [
       "<div>\n",
       "<style scoped>\n",
       "    .dataframe tbody tr th:only-of-type {\n",
       "        vertical-align: middle;\n",
       "    }\n",
       "\n",
       "    .dataframe tbody tr th {\n",
       "        vertical-align: top;\n",
       "    }\n",
       "\n",
       "    .dataframe thead th {\n",
       "        text-align: right;\n",
       "    }\n",
       "</style>\n",
       "<table border=\"1\" class=\"dataframe\">\n",
       "  <thead>\n",
       "    <tr style=\"text-align: right;\">\n",
       "      <th></th>\n",
       "      <th>id</th>\n",
       "    </tr>\n",
       "  </thead>\n",
       "  <tbody>\n",
       "    <tr>\n",
       "      <th>0</th>\n",
       "      <td>000001</td>\n",
       "    </tr>\n",
       "    <tr>\n",
       "      <th>1</th>\n",
       "      <td>000006</td>\n",
       "    </tr>\n",
       "  </tbody>\n",
       "</table>\n",
       "</div>"
      ],
      "text/plain": [
       "       id\n",
       "0  000001\n",
       "1  000006"
      ]
     },
     "execution_count": 3,
     "metadata": {},
     "output_type": "execute_result"
    }
   ],
   "source": [
    "from IPython.core.interactiveshell import InteractiveShell\n",
    "InteractiveShell.ast_node_interactivity = \"all\"\n",
    "trainmeta.head(2)\n",
    "testmeta.head(2)"
   ]
  },
  {
   "cell_type": "markdown",
   "metadata": {},
   "source": [
    "## 接下来按照测试集的格式对训练集做转化"
   ]
  },
  {
   "cell_type": "code",
   "execution_count": 4,
   "metadata": {},
   "outputs": [],
   "source": [
    "import numpy as np\n",
    "from PIL import Image\n",
    "import matplotlib.pyplot as plt"
   ]
  },
  {
   "cell_type": "code",
   "execution_count": 5,
   "metadata": {},
   "outputs": [],
   "source": [
    "def concat_duijiao(img1, img2):\n",
    "    half_width = 100\n",
    "    half_height = 100\n",
    "    width = 200\n",
    "    height = 200\n",
    "    top_left = img1.crop((0, 0, half_width, half_height))\n",
    "    bottom_right = img1.crop((half_width, half_height, width, height))\n",
    "    top_right = img2.crop((half_width, 0, width, half_height))\n",
    "    bottom_left = img2.crop((0, half_height, half_width, height))\n",
    "    new_image = Image.new(\"RGB\", (width, height))\n",
    "\n",
    "    # 粘贴裁剪后的区域到新图像\n",
    "    new_image.paste(top_left, (0, 0))\n",
    "    new_image.paste(top_right, (half_width, 0))\n",
    "    new_image.paste(bottom_left, (0, half_height))\n",
    "    new_image.paste(bottom_right, (half_width, half_height))\n",
    "    return new_image\n",
    "\n",
    "def concat_shangxia(img1, img2):\n",
    "    half_width = 100\n",
    "    half_height = 100\n",
    "    width = 200\n",
    "    height = 200\n",
    "    new_image = Image.new(\"RGB\", (width, height))\n",
    "    new_image.paste(img1, (0, 0))\n",
    "    new_image.paste(img2, (0, half_height))\n",
    "    return new_image\n",
    "\n",
    "def concat_zuoyou(img1, img2):\n",
    "    half_width = 100\n",
    "    half_height = 100\n",
    "    width = 200\n",
    "    height = 200\n",
    "    new_image = Image.new(\"RGB\", (width, height))\n",
    "    new_image.paste(img1, (0, 0))\n",
    "    new_image.paste(img2, (half_width, 0))\n",
    "    return new_image"
   ]
  },
  {
   "cell_type": "code",
   "execution_count": 52,
   "metadata": {},
   "outputs": [],
   "source": [
    "import random \n",
    "train_ori_gt_dir = 'data/annotations/training_ori/'\n",
    "train_gt_dir = 'data/annotations/training/'\n",
    "\n",
    "def concat_images(img1_name):\n",
    "    img1 = Image.open(train_ori_dir + img1_name + impost['f'])\n",
    "    img2_name = random.choice(trainmeta['id'])\n",
    "    img2 = Image.open(train_ori_dir + img2_name + impost['f'])\n",
    "    img1_gt = Image.open(train_ori_gt_dir + img1_name + impost['l'])\n",
    "    img2_gt = Image.open(train_ori_gt_dir + img2_name + impost['l'])\n",
    "\n",
    "    new_image = concat_duijiao(img1, img2)\n",
    "    new_image_gt = concat_duijiao(img1_gt, img2_gt)\n",
    "\n",
    "    new_image.save(train_dir + '0' + img1_name + '.jpg')\n",
    "    new_image_gt.save(train_gt_dir + '0' + img1_name + '.png')"
   ]
  },
  {
   "cell_type": "code",
   "execution_count": 53,
   "metadata": {},
   "outputs": [],
   "source": [
    "def concat_images_double(img1_name):\n",
    "    img1 = Image.open(train_ori_dir + img1_name + impost['f'])\n",
    "    im2_name = random.choice(trainmeta['id'])\n",
    "    img2 = Image.open(train_ori_dir + im2_name + impost['f'])\n",
    "    img1_gt = Image.open(train_ori_gt_dir + img1_name + impost['l'])\n",
    "    img2_gt = Image.open(train_ori_gt_dir + im2_name + impost['l'])\n",
    "\n",
    "    half_width = 100\n",
    "    half_height = 100\n",
    "    width = 200\n",
    "    height = 200\n",
    "    if random.random() > 0.5:\n",
    "        # 上下拼接\n",
    "        new_image = concat_shangxia(img1, img2)\n",
    "        new_image_gt = concat_shangxia(img1_gt, img2_gt)\n",
    "        new_image.save(train_dir + '1' + img1_name + '.jpg')\n",
    "        new_image_gt.save(train_gt_dir + '1' + img1_name + '.png')\n",
    "    else:\n",
    "        # 左右拼接\n",
    "        new_image = concat_zuoyou(img1, img2)\n",
    "        new_image_gt = concat_zuoyou(img1_gt, img2_gt)\n",
    "        new_image.save(train_dir + '2' + img1_name + '.jpg')\n",
    "        new_image_gt.save(train_gt_dir + '2' + img1_name + '.png')\n"
   ]
  },
  {
   "cell_type": "code",
   "execution_count": 54,
   "metadata": {},
   "outputs": [
    {
     "data": {
      "text/plain": [
       "0       None\n",
       "1       None\n",
       "2       None\n",
       "3       None\n",
       "4       None\n",
       "        ... \n",
       "4465    None\n",
       "4466    None\n",
       "4467    None\n",
       "4468    None\n",
       "4469    None\n",
       "Name: id, Length: 4470, dtype: object"
      ]
     },
     "execution_count": 54,
     "metadata": {},
     "output_type": "execute_result"
    },
    {
     "data": {
      "text/plain": [
       "0       None\n",
       "1       None\n",
       "2       None\n",
       "3       None\n",
       "4       None\n",
       "        ... \n",
       "4465    None\n",
       "4466    None\n",
       "4467    None\n",
       "4468    None\n",
       "4469    None\n",
       "Name: id, Length: 4470, dtype: object"
      ]
     },
     "execution_count": 54,
     "metadata": {},
     "output_type": "execute_result"
    }
   ],
   "source": [
    "trainmeta['id'].apply(concat_images)\n",
    "trainmeta['id'].apply(concat_images_double)"
   ]
  },
  {
   "cell_type": "code",
   "execution_count": 2,
   "metadata": {},
   "outputs": [],
   "source": [
    "new_csv = os.listdir('data/images/training')"
   ]
  },
  {
   "cell_type": "code",
   "execution_count": 3,
   "metadata": {},
   "outputs": [
    {
     "data": {
      "text/html": [
       "<div>\n",
       "<style scoped>\n",
       "    .dataframe tbody tr th:only-of-type {\n",
       "        vertical-align: middle;\n",
       "    }\n",
       "\n",
       "    .dataframe tbody tr th {\n",
       "        vertical-align: top;\n",
       "    }\n",
       "\n",
       "    .dataframe thead th {\n",
       "        text-align: right;\n",
       "    }\n",
       "</style>\n",
       "<table border=\"1\" class=\"dataframe\">\n",
       "  <thead>\n",
       "    <tr style=\"text-align: right;\">\n",
       "      <th></th>\n",
       "      <th>id</th>\n",
       "    </tr>\n",
       "  </thead>\n",
       "  <tbody>\n",
       "    <tr>\n",
       "      <th>0</th>\n",
       "      <td>11002576</td>\n",
       "    </tr>\n",
       "    <tr>\n",
       "      <th>1</th>\n",
       "      <td>21002029</td>\n",
       "    </tr>\n",
       "    <tr>\n",
       "      <th>2</th>\n",
       "      <td>11001923</td>\n",
       "    </tr>\n",
       "    <tr>\n",
       "      <th>3</th>\n",
       "      <td>01001032</td>\n",
       "    </tr>\n",
       "    <tr>\n",
       "      <th>4</th>\n",
       "      <td>02000039</td>\n",
       "    </tr>\n",
       "  </tbody>\n",
       "</table>\n",
       "</div>"
      ],
      "text/plain": [
       "         id\n",
       "0  11002576\n",
       "1  21002029\n",
       "2  11001923\n",
       "3  01001032\n",
       "4  02000039"
      ]
     },
     "execution_count": 3,
     "metadata": {},
     "output_type": "execute_result"
    }
   ],
   "source": [
    "new_csv = [x.split('.')[0] for x in new_csv]\n",
    "train_new_meta = pd.DataFrame({'id':new_csv})\n",
    "train_new_meta.head()"
   ]
  },
  {
   "cell_type": "code",
   "execution_count": 4,
   "metadata": {},
   "outputs": [],
   "source": [
    "train_new_meta.to_csv('stats/train-meta.csv', index=False)"
   ]
  },
  {
   "cell_type": "code",
   "execution_count": 50,
   "metadata": {},
   "outputs": [
    {
     "data": {
      "text/plain": [
       "<matplotlib.legend.Legend at 0x7f81826eb5e0>"
      ]
     },
     "execution_count": 50,
     "metadata": {},
     "output_type": "execute_result"
    },
    {
     "data": {
      "image/png": "[encoded data removed]",
      "text/plain": [
       "<Figure size 1200x600 with 6 Axes>"
      ]
     },
     "metadata": {},
     "output_type": "display_data"
    }
   ],
   "source": [
    "import matplotlib.pyplot as plt\n",
    "from PIL import Image\n",
    "import cv2\n",
    "from torchvision import transforms\n",
    "import matplotlib.patches as mpatches\n",
    "import numpy as np\n",
    "\n",
    "image_transform = transforms.Compose([\n",
    "    transforms.Resize((200, 200)),\n",
    "    transforms.ToTensor()\n",
    "])\n",
    "\n",
    "color_map = {\n",
    "    0: [0, 0, 0],      # Background (黑色)\n",
    "    1: [255, 165, 0],     # Inclusions (浅橙色)\n",
    "    2: [30, 144, 255],    # Patches (天蓝色)\n",
    "    3: [50, 205, 50],     # Scratches (亮绿色)\n",
    "}\n",
    "legend_patches = [\n",
    "    mpatches.Patch(color=np.array(color_map[0])/255, label='Background(0)'),\n",
    "    mpatches.Patch(color=np.array(color_map[1])/255, label='Inclusions(1)'),\n",
    "    mpatches.Patch(color=np.array(color_map[2])/255, label='Patches(2)'),\n",
    "    mpatches.Patch(color=np.array(color_map[3])/255, label='Scratches(3)'),\n",
    "]\n",
    "\n",
    "def to_rgb_im(mask):\n",
    "    height, width = mask.shape\n",
    "    rgb_image = np.zeros((height, width, 3), dtype=np.uint8)\n",
    "\n",
    "    for class_idx, color in color_map.items():\n",
    "        rgb_image[mask == class_idx] = color\n",
    "    return rgb_image\n",
    "\n",
    "\n",
    "a, b = concat_images_double(trainmeta['id'][0])\n",
    "\n",
    "\n",
    "\n",
    "def plot_result(axes):\n",
    "    \"\"\"\n",
    "        总共绘制3张图, 第一张是原图, 第二张是预测的掩码图, 第三张是GT\n",
    "        args:\n",
    "            imid: 希望可视化的图片的id\n",
    "            train: True: 可视化训练集图片  False: 可视化测试集图片\n",
    "    \"\"\"\n",
    "    imdata = np.array(a)\n",
    "    mask = np.array(b)[:, :, 0]\n",
    "    pred = np.array(b)[:, :, 0]\n",
    "\n",
    "\n",
    "    # 颜色转换\n",
    "    mask, pred = to_rgb_im(mask), to_rgb_im(pred)\n",
    "\n",
    "    axes[0].imshow(imdata)\n",
    "    axes[0].axis('off')\n",
    "    axes[1].imshow(mask) \n",
    "    axes[1].axis('off') \n",
    "    axes[2].imshow(pred) \n",
    "    axes[2].axis('off') \n",
    "fig, axes = plt.subplots(2, 3, figsize=(12, 6)) \n",
    "fig.legend(handles=legend_patches, loc='upper right', bbox_to_anchor=(0.65, 1.05), ncol=4)\n",
    "plt.tight_layout(rect=[0, 0, 1, 0.95])\n",
    "plot_result(axes[0])"
   ]
  },
  {
   "cell_type": "code",
   "execution_count": 11,
   "metadata": {},
   "outputs": [
    {
     "data": {
      "text/plain": [
       "0       None\n",
       "1       None\n",
       "2       None\n",
       "3       None\n",
       "4       None\n",
       "        ... \n",
       "4465    None\n",
       "4466    None\n",
       "4467    None\n",
       "4468    None\n",
       "4469    None\n",
       "Name: id, Length: 4470, dtype: object"
      ]
     },
     "execution_count": 11,
     "metadata": {},
     "output_type": "execute_result"
    }
   ],
   "source": [
    "trainmeta['id'].apply(concat_images)"
   ]
  },
  {
   "cell_type": "code",
   "execution_count": 12,
   "metadata": {},
   "outputs": [
    {
     "data": {
      "text/html": [
       "<div>\n",
       "<style scoped>\n",
       "    .dataframe tbody tr th:only-of-type {\n",
       "        vertical-align: middle;\n",
       "    }\n",
       "\n",
       "    .dataframe tbody tr th {\n",
       "        vertical-align: top;\n",
       "    }\n",
       "\n",
       "    .dataframe thead th {\n",
       "        text-align: right;\n",
       "    }\n",
       "</style>\n",
       "<table border=\"1\" class=\"dataframe\">\n",
       "  <thead>\n",
       "    <tr style=\"text-align: right;\">\n",
       "      <th></th>\n",
       "      <th>id</th>\n",
       "    </tr>\n",
       "  </thead>\n",
       "  <tbody>\n",
       "    <tr>\n",
       "      <th>0</th>\n",
       "      <td>1000201</td>\n",
       "    </tr>\n",
       "    <tr>\n",
       "      <th>1</th>\n",
       "      <td>1000202</td>\n",
       "    </tr>\n",
       "    <tr>\n",
       "      <th>2</th>\n",
       "      <td>1000203</td>\n",
       "    </tr>\n",
       "    <tr>\n",
       "      <th>3</th>\n",
       "      <td>1000204</td>\n",
       "    </tr>\n",
       "    <tr>\n",
       "      <th>4</th>\n",
       "      <td>1000205</td>\n",
       "    </tr>\n",
       "  </tbody>\n",
       "</table>\n",
       "</div>"
      ],
      "text/plain": [
       "        id\n",
       "0  1000201\n",
       "1  1000202\n",
       "2  1000203\n",
       "3  1000204\n",
       "4  1000205"
      ]
     },
     "execution_count": 12,
     "metadata": {},
     "output_type": "execute_result"
    }
   ],
   "source": [
    "make_files = [_.split('.')[0] for _ in os.listdir(train_dir)]\n",
    "train_new_meta = pd.DataFrame({'id': make_files}).sort_values('id').reset_index(drop=True)\n",
    "train_new_meta.head()"
   ]
  },
  {
   "cell_type": "code",
   "execution_count": 13,
   "metadata": {},
   "outputs": [],
   "source": [
    "train_new_meta.to_csv('stats/train-meta.csv', index=False)\n",
    "testmeta.to_csv('stats/test-meta.csv', index=False)"
   ]
  },
  {
   "cell_type": "code",
   "execution_count": null,
   "metadata": {},
   "outputs": [],
   "source": []
  }
 ],
 "metadata": {
  "kernelspec": {
   "display_name": "gssai",
   "language": "python",
   "name": "python3"
  },
  "language_info": {
   "codemirror_mode": {
    "name": "ipython",
    "version": 3
   },
   "file_extension": ".py",
   "mimetype": "text/x-python",
   "name": "python",
   "nbconvert_exporter": "python",
   "pygments_lexer": "ipython3",
   "version": "3.10.14"
  }
 },
 "nbformat": 4,
 "nbformat_minor": 2
}
