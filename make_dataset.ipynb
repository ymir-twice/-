{
 "cells": [
  {
   "cell_type": "markdown",
   "metadata": {},
   "source": [
    "# 制作数据"
   ]
  },
  {
   "cell_type": "code",
   "execution_count": 1,
   "metadata": {},
   "outputs": [],
   "source": [
    "# import os\n",
    "# from PIL import Image\n",
    "# def transpose(read1_dir, read2_dir, write_dir):\n",
    "#     file1 = os.listdir(read1_dir)\n",
    "#     for file in file1:\n",
    "#         file = file.split('.')[0] + '.png'\n",
    "#         img = Image.open(read2_dir + file)\n",
    "#         img.save(write_dir + file)\n",
    "# transpose('data/images/training/', 'data/annotations/testB3/', 'data/annotations/training/')\n",
    "# transpose('data/images/test/', 'data/annotations/testB3/', 'data/annotations/test/')"
   ]
  },
  {
   "cell_type": "code",
   "execution_count": 2,
   "metadata": {},
   "outputs": [
    {
     "data": {
      "text/html": [
       "<div>\n",
       "<style scoped>\n",
       "    .dataframe tbody tr th:only-of-type {\n",
       "        vertical-align: middle;\n",
       "    }\n",
       "\n",
       "    .dataframe tbody tr th {\n",
       "        vertical-align: top;\n",
       "    }\n",
       "\n",
       "    .dataframe thead th {\n",
       "        text-align: right;\n",
       "    }\n",
       "</style>\n",
       "<table border=\"1\" class=\"dataframe\">\n",
       "  <thead>\n",
       "    <tr style=\"text-align: right;\">\n",
       "      <th></th>\n",
       "      <th>id</th>\n",
       "    </tr>\n",
       "  </thead>\n",
       "  <tbody>\n",
       "    <tr>\n",
       "      <th>0</th>\n",
       "      <td>1000201</td>\n",
       "    </tr>\n",
       "    <tr>\n",
       "      <th>1</th>\n",
       "      <td>1000202</td>\n",
       "    </tr>\n",
       "    <tr>\n",
       "      <th>2</th>\n",
       "      <td>1000203</td>\n",
       "    </tr>\n",
       "    <tr>\n",
       "      <th>3</th>\n",
       "      <td>1000204</td>\n",
       "    </tr>\n",
       "    <tr>\n",
       "      <th>4</th>\n",
       "      <td>1000205</td>\n",
       "    </tr>\n",
       "  </tbody>\n",
       "</table>\n",
       "</div>"
      ],
      "text/plain": [
       "        id\n",
       "0  1000201\n",
       "1  1000202\n",
       "2  1000203\n",
       "3  1000204\n",
       "4  1000205"
      ]
     },
     "execution_count": 2,
     "metadata": {},
     "output_type": "execute_result"
    }
   ],
   "source": [
    "import os\n",
    "import pandas as pd\n",
    "\n",
    "train_ori_dir = 'data/images/training_ori/'\n",
    "train_dir = 'data/images/training/'\n",
    "test_dir = 'data/images/test/'\n",
    "\n",
    "impost = {'f': '.jpg', 'l': '.png'}\n",
    "trainfiles = [_.split('.')[0] for _ in os.listdir(train_ori_dir)]\n",
    "testfiles = [_.split('.')[0] for _ in os.listdir(test_dir)]\n",
    "trainmeta = pd.DataFrame({'id': trainfiles}).sort_values('id').reset_index(drop=True)\n",
    "testmeta = pd.DataFrame({'id': testfiles}).sort_values('id').reset_index(drop=True)\n",
    "trainmeta.head()"
   ]
  },
  {
   "cell_type": "markdown",
   "metadata": {},
   "source": [
    "样本量非常少"
   ]
  },
  {
   "cell_type": "code",
   "execution_count": 3,
   "metadata": {},
   "outputs": [
    {
     "name": "stdout",
     "output_type": "stream",
     "text": [
      "训练集:  (4470, 1)\n",
      "测试集:  (500, 1)\n"
     ]
    }
   ],
   "source": [
    "print(\"训练集: \", trainmeta.shape)\n",
    "print(\"测试集: \", testmeta.shape)"
   ]
  },
  {
   "cell_type": "code",
   "execution_count": 4,
   "metadata": {},
   "outputs": [],
   "source": [
    "from IPython.core.interactiveshell import InteractiveShell\n",
    "InteractiveShell.ast_node_interactivity = \"all\"\n",
    "trainmeta.head(2)\n",
    "testmeta.head(2)\n",
    "from IPython.core.interactiveshell import InteractiveShell\n",
    "InteractiveShell.ast_node_interactivity = \"last_expr\""
   ]
  },
  {
   "cell_type": "markdown",
   "metadata": {},
   "source": [
    "## 接下来按照测试集的格式对训练集做转化"
   ]
  },
  {
   "cell_type": "code",
   "execution_count": 5,
   "metadata": {},
   "outputs": [],
   "source": [
    "import numpy as np\n",
    "from PIL import Image\n",
    "import matplotlib.pyplot as plt"
   ]
  },
  {
   "cell_type": "markdown",
   "metadata": {},
   "source": [
    "### 对角，上下左右拼接\n",
    "  - 对角: 0\n",
    "  - 上下: 1\n",
    "  - 左右: 2"
   ]
  },
  {
   "cell_type": "code",
   "execution_count": 6,
   "metadata": {},
   "outputs": [],
   "source": [
    "def concat_duijiao(img1, img2):\n",
    "    half_width = 100\n",
    "    half_height = 100\n",
    "    width = 200\n",
    "    height = 200\n",
    "    top_left = img1.crop((0, 0, half_width, half_height))\n",
    "    bottom_right = img1.crop((half_width, half_height, width, height))\n",
    "    top_right = img2.crop((half_width, 0, width, half_height))\n",
    "    bottom_left = img2.crop((0, half_height, half_width, height))\n",
    "    new_image = Image.new(\"RGB\", (width, height))\n",
    "\n",
    "    # 粘贴裁剪后的区域到新图像\n",
    "    new_image.paste(top_left, (0, 0))\n",
    "    new_image.paste(top_right, (half_width, 0))\n",
    "    new_image.paste(bottom_left, (0, half_height))\n",
    "    new_image.paste(bottom_right, (half_width, half_height))\n",
    "    return new_image\n",
    "\n",
    "def concat_shangxia(img1, img2):\n",
    "    half_width = 100\n",
    "    half_height = 100\n",
    "    width = 200\n",
    "    height = 200\n",
    "    new_image = Image.new(\"RGB\", (width, height))\n",
    "    new_image.paste(img1, (0, 0))\n",
    "    new_image.paste(img2, (0, half_height))\n",
    "    return new_image\n",
    "\n",
    "def concat_zuoyou(img1, img2):\n",
    "    half_width = 100\n",
    "    half_height = 100\n",
    "    width = 200\n",
    "    height = 200\n",
    "    new_image = Image.new(\"RGB\", (width, height))\n",
    "    new_image.paste(img1, (0, 0))\n",
    "    new_image.paste(img2, (half_width, 0))\n",
    "    return new_image"
   ]
  },
  {
   "cell_type": "code",
   "execution_count": 7,
   "metadata": {},
   "outputs": [],
   "source": [
    "import random \n",
    "train_ori_gt_dir = 'data/annotations/training_ori/'\n",
    "train_gt_dir = 'data/annotations/training/'"
   ]
  },
  {
   "cell_type": "code",
   "execution_count": 8,
   "metadata": {},
   "outputs": [],
   "source": [
    "def concat_images(img1_name):\n",
    "    img1 = Image.open(train_ori_dir + img1_name + impost['f'])\n",
    "    img2_name = random.choice(trainmeta['id'])\n",
    "    img2 = Image.open(train_ori_dir + img2_name + impost['f'])\n",
    "    img1_gt = Image.open(train_ori_gt_dir + img1_name + impost['l'])\n",
    "    img2_gt = Image.open(train_ori_gt_dir + img2_name + impost['l'])\n",
    "\n",
    "    new_image = concat_duijiao(img1, img2)\n",
    "    new_image_gt = concat_duijiao(img1_gt, img2_gt)\n",
    "\n",
    "    new_image.save(train_dir + '0' + img1_name + '.jpg')\n",
    "    new_image_gt.save(train_gt_dir + '0' + img1_name + '.png')"
   ]
  },
  {
   "cell_type": "code",
   "execution_count": 9,
   "metadata": {},
   "outputs": [],
   "source": [
    "def concat_images_double(img1_name):\n",
    "    img1 = Image.open(train_ori_dir + img1_name + impost['f'])\n",
    "    im2_name = random.choice(trainmeta['id'])\n",
    "    img2 = Image.open(train_ori_dir + im2_name + impost['f'])\n",
    "    img1_gt = Image.open(train_ori_gt_dir + img1_name + impost['l'])\n",
    "    img2_gt = Image.open(train_ori_gt_dir + im2_name + impost['l'])\n",
    "\n",
    "    # 上下拼接\n",
    "    new_image = concat_shangxia(img1, img2)\n",
    "    new_image_gt = concat_shangxia(img1_gt, img2_gt)\n",
    "    new_image.save(train_dir + '1' + img1_name + '.jpg')\n",
    "    new_image_gt.save(train_gt_dir + '1' + img1_name + '.png')\n",
    "    \n",
    "    # 左右拼接\n",
    "    new_image = concat_zuoyou(img1, img2)\n",
    "    new_image_gt = concat_zuoyou(img1_gt, img2_gt)\n",
    "    new_image.save(train_dir + '2' + img1_name + '.jpg')\n",
    "    new_image_gt.save(train_gt_dir + '2' + img1_name + '.png')"
   ]
  },
  {
   "cell_type": "markdown",
   "metadata": {},
   "source": [
    "### 生成不规则图像的图片"
   ]
  },
  {
   "cell_type": "code",
   "execution_count": 16,
   "metadata": {},
   "outputs": [
    {
     "data": {
      "image/jpeg": "[encoded data removed]",
      "image/png": "[encoded data removed]",
      "text/plain": [
       "<PIL.Image.Image image mode=RGB size=200x200>"
      ]
     },
     "execution_count": 16,
     "metadata": {},
     "output_type": "execute_result"
    }
   ],
   "source": [
    "import cv2\n",
    "def overlay(img_name):\n",
    "    background = cv2.imread(f'data/images/training_ori/{img_name}.jpg', cv2.IMREAD_GRAYSCALE)\n",
    "    random_img = random.choice(trainmeta['id'])\n",
    "    overlay = cv2.imread(f'data/images/training_ori/{random_img}.jpg', cv2.IMREAD_GRAYSCALE)\n",
    "\n",
    "    # 调整小图像的大小，若需要可以指定更小尺寸\n",
    "    positions = [(0, 0, 100, 100), (100, 50, 150, 100)]  # 调整为你需要的叠加位置\n",
    "\n",
    "    # 创建一个彩色版本的背景用于合并显示\n",
    "    background_color = cv2.cvtColor(background, cv2.COLOR_GRAY2BGR)\n",
    "\n",
    "    # 不规则拼接：循环每个位置，将未缩放的小图像叠加到背景图上\n",
    "    for pos in positions:\n",
    "        start_x, start_y, end_x, end_y = pos\n",
    "\n",
    "        # 计算叠加区域的边界，确保 overlay 不超出背景图像的边界\n",
    "\n",
    "        # 对 overlay 进行裁剪以匹配 ROI 的尺寸\n",
    "        overlay_cropped = overlay[start_y:end_y, start_x:end_x]\n",
    "        overlay_color = cv2.cvtColor(overlay_cropped, cv2.COLOR_GRAY2BGR)\n",
    "\n",
    "        # 提取背景中的 ROI\n",
    "        roi = background_color[start_y:end_y, start_x:end_x]\n",
    "\n",
    "        # 创建遮罩，将非零区域的值设为 255\n",
    "        mask = np.ones_like(overlay_cropped, dtype=np.uint8) * 255\n",
    "\n",
    "        # 使用遮罩将 overlay 不规则地叠加到背景图上\n",
    "        np.copyto(roi, overlay_color, where=(mask[..., None] == 255))\n",
    "    background_color = Image.fromarray(cv2.cvtColor(background_color, cv2.COLOR_BGR2RGB))\n",
    "    return background_color\n",
    "\n",
    "overlay(trainmeta['id'][0])"
   ]
  },
  {
   "cell_type": "markdown",
   "metadata": {},
   "source": [
    "### 椒盐\n",
    "   - 命名以 3 开头\n",
    "   - 椒盐比: 0.039, 8.8, 0.432"
   ]
  },
  {
   "cell_type": "code",
   "execution_count": 36,
   "metadata": {},
   "outputs": [],
   "source": [
    "def add_salt_pepper_noise(img, pepper_salt_prob=0.039, salt_vs_pepper=[0.432, 8.8]):\n",
    "    \"\"\"\n",
    "    向图像添加椒盐噪声。\n",
    "    \n",
    "    参数:\n",
    "    - img (Image): 输入图像。\n",
    "    - salt_prob (float): 椒盐噪声中盐的概率。\n",
    "    - pepper_prob (float): 椒盐噪声中椒的概率。\n",
    "\n",
    "    返回:\n",
    "    - Image: 添加椒盐噪声后的图像。\n",
    "    \"\"\"\n",
    "    img_array = np.array(img)\n",
    "    total_pixels = img_array.size\n",
    "\n",
    "    total_prob = random.uniform(pepper_salt_prob - 0.01, 0.15)\n",
    "    salt_vs_pepper = random.uniform(salt_vs_pepper[0] + 0.01, salt_vs_pepper[1] - 0.01)\n",
    "    salt_vs_pepper = np.array([salt_vs_pepper, 1.0])\n",
    "    salt_vs_pepper = salt_vs_pepper / np.sum(salt_vs_pepper)\n",
    "    salt_prob = total_prob * salt_vs_pepper[0]\n",
    "    pepper_prob = total_prob * salt_vs_pepper[1]\n",
    "\n",
    "    # 添加盐噪声\n",
    "    num_salt = max(int(salt_prob * total_pixels) - np.sum(img_array == 255), 0)\n",
    "    salt_coords = [np.random.randint(0, i-1, num_salt) for i in img_array.shape]\n",
    "    img_array[salt_coords[0], salt_coords[1]] = 255    # 设置为白色（盐）\n",
    "\n",
    "    # 添加椒噪声\n",
    "    num_pepper = max(int(pepper_prob * total_pixels) - np.sum(img_array == 0), 0)\n",
    "    pepper_coords = [np.random.randint(0, i-1, num_pepper) for i in img_array.shape]\n",
    "    img_array[pepper_coords[0], pepper_coords[1]] = 0  # 设置为黑色（椒）\n",
    "\n",
    "    return Image.fromarray(img_array)\n",
    "\n",
    "def images_add_noise(img_name):\n",
    "    img1 = Image.open(train_ori_dir + img_name + impost['f'])\n",
    "    img1_gt = Image.open(train_ori_gt_dir + img_name + impost['l'])\n",
    "\n",
    "    new_image = add_salt_pepper_noise(img1)\n",
    "    new_image.save(train_dir + '3' + img_name + '.jpg')\n",
    "    img1_gt.save(train_gt_dir + '3' + img_name + '.png')"
   ]
  },
  {
   "cell_type": "code",
   "execution_count": 14,
   "metadata": {},
   "outputs": [
    {
     "data": {
      "text/plain": [
       "0       None\n",
       "1       None\n",
       "2       None\n",
       "3       None\n",
       "4       None\n",
       "        ... \n",
       "4465    None\n",
       "4466    None\n",
       "4467    None\n",
       "4468    None\n",
       "4469    None\n",
       "Name: id, Length: 4470, dtype: object"
      ]
     },
     "execution_count": 14,
     "metadata": {},
     "output_type": "execute_result"
    },
    {
     "data": {
      "text/plain": [
       "0       None\n",
       "1       None\n",
       "2       None\n",
       "3       None\n",
       "4       None\n",
       "        ... \n",
       "4465    None\n",
       "4466    None\n",
       "4467    None\n",
       "4468    None\n",
       "4469    None\n",
       "Name: id, Length: 4470, dtype: object"
      ]
     },
     "execution_count": 14,
     "metadata": {},
     "output_type": "execute_result"
    },
    {
     "data": {
      "text/plain": [
       "0       None\n",
       "1       None\n",
       "2       None\n",
       "3       None\n",
       "4       None\n",
       "        ... \n",
       "4465    None\n",
       "4466    None\n",
       "4467    None\n",
       "4468    None\n",
       "4469    None\n",
       "Name: id, Length: 4470, dtype: object"
      ]
     },
     "execution_count": 14,
     "metadata": {},
     "output_type": "execute_result"
    }
   ],
   "source": [
    "trainmeta['id'].apply(concat_images)\n",
    "trainmeta['id'].apply(concat_images_double)\n",
    "trainmeta['id'].apply(images_add_noise)"
   ]
  },
  {
   "cell_type": "markdown",
   "metadata": {},
   "source": [
    "### 生成原图"
   ]
  },
  {
   "cell_type": "code",
   "execution_count": 15,
   "metadata": {},
   "outputs": [],
   "source": [
    "def original(img_name):\n",
    "    img1 = Image.open(train_ori_dir + img_name + impost['f'])\n",
    "    img1_gt = Image.open(train_ori_gt_dir + img_name + impost['l'])\n",
    "\n",
    "    img1.save(train_dir + '4' + img_name + '.jpg')\n",
    "    img1_gt.save(train_gt_dir + '4' + img_name + '.png')"
   ]
  },
  {
   "cell_type": "code",
   "execution_count": 16,
   "metadata": {},
   "outputs": [
    {
     "data": {
      "text/plain": [
       "0       None\n",
       "1       None\n",
       "2       None\n",
       "3       None\n",
       "4       None\n",
       "        ... \n",
       "4465    None\n",
       "4466    None\n",
       "4467    None\n",
       "4468    None\n",
       "4469    None\n",
       "Name: id, Length: 4470, dtype: object"
      ]
     },
     "execution_count": 16,
     "metadata": {},
     "output_type": "execute_result"
    }
   ],
   "source": [
    "trainmeta['id'].apply(original)"
   ]
  },
  {
   "cell_type": "code",
   "execution_count": 17,
   "metadata": {},
   "outputs": [],
   "source": [
    "new_csv = os.listdir('data/images/training')"
   ]
  },
  {
   "cell_type": "code",
   "execution_count": 18,
   "metadata": {},
   "outputs": [
    {
     "data": {
      "text/html": [
       "<div>\n",
       "<style scoped>\n",
       "    .dataframe tbody tr th:only-of-type {\n",
       "        vertical-align: middle;\n",
       "    }\n",
       "\n",
       "    .dataframe tbody tr th {\n",
       "        vertical-align: top;\n",
       "    }\n",
       "\n",
       "    .dataframe thead th {\n",
       "        text-align: right;\n",
       "    }\n",
       "</style>\n",
       "<table border=\"1\" class=\"dataframe\">\n",
       "  <thead>\n",
       "    <tr style=\"text-align: right;\">\n",
       "      <th></th>\n",
       "      <th>id</th>\n",
       "    </tr>\n",
       "  </thead>\n",
       "  <tbody>\n",
       "    <tr>\n",
       "      <th>0</th>\n",
       "      <td>21000629</td>\n",
       "    </tr>\n",
       "    <tr>\n",
       "      <th>1</th>\n",
       "      <td>11002576</td>\n",
       "    </tr>\n",
       "    <tr>\n",
       "      <th>2</th>\n",
       "      <td>31000675</td>\n",
       "    </tr>\n",
       "    <tr>\n",
       "      <th>3</th>\n",
       "      <td>21002029</td>\n",
       "    </tr>\n",
       "    <tr>\n",
       "      <th>4</th>\n",
       "      <td>31003603</td>\n",
       "    </tr>\n",
       "  </tbody>\n",
       "</table>\n",
       "</div>"
      ],
      "text/plain": [
       "         id\n",
       "0  21000629\n",
       "1  11002576\n",
       "2  31000675\n",
       "3  21002029\n",
       "4  31003603"
      ]
     },
     "execution_count": 18,
     "metadata": {},
     "output_type": "execute_result"
    }
   ],
   "source": [
    "new_csv = [x.split('.')[0] for x in new_csv]\n",
    "train_new_meta = pd.DataFrame({'id':new_csv})\n",
    "train_new_meta.head()"
   ]
  },
  {
   "cell_type": "code",
   "execution_count": 19,
   "metadata": {},
   "outputs": [],
   "source": [
    "train_new_meta.to_csv('stats/train-meta.csv', index=False)"
   ]
  },
  {
   "cell_type": "code",
   "execution_count": 20,
   "metadata": {},
   "outputs": [
    {
     "data": {
      "text/html": [
       "<div>\n",
       "<style scoped>\n",
       "    .dataframe tbody tr th:only-of-type {\n",
       "        vertical-align: middle;\n",
       "    }\n",
       "\n",
       "    .dataframe tbody tr th {\n",
       "        vertical-align: top;\n",
       "    }\n",
       "\n",
       "    .dataframe thead th {\n",
       "        text-align: right;\n",
       "    }\n",
       "</style>\n",
       "<table border=\"1\" class=\"dataframe\">\n",
       "  <thead>\n",
       "    <tr style=\"text-align: right;\">\n",
       "      <th></th>\n",
       "      <th>id</th>\n",
       "    </tr>\n",
       "  </thead>\n",
       "  <tbody>\n",
       "    <tr>\n",
       "      <th>0</th>\n",
       "      <td>01000201</td>\n",
       "    </tr>\n",
       "    <tr>\n",
       "      <th>1</th>\n",
       "      <td>01000202</td>\n",
       "    </tr>\n",
       "    <tr>\n",
       "      <th>2</th>\n",
       "      <td>01000203</td>\n",
       "    </tr>\n",
       "    <tr>\n",
       "      <th>3</th>\n",
       "      <td>01000204</td>\n",
       "    </tr>\n",
       "    <tr>\n",
       "      <th>4</th>\n",
       "      <td>01000205</td>\n",
       "    </tr>\n",
       "  </tbody>\n",
       "</table>\n",
       "</div>"
      ],
      "text/plain": [
       "         id\n",
       "0  01000201\n",
       "1  01000202\n",
       "2  01000203\n",
       "3  01000204\n",
       "4  01000205"
      ]
     },
     "execution_count": 20,
     "metadata": {},
     "output_type": "execute_result"
    }
   ],
   "source": [
    "make_files = [_.split('.')[0] for _ in os.listdir(train_dir)]\n",
    "train_new_meta = pd.DataFrame({'id': make_files}).sort_values('id').reset_index(drop=True)\n",
    "train_new_meta.head()"
   ]
  },
  {
   "cell_type": "code",
   "execution_count": 21,
   "metadata": {},
   "outputs": [],
   "source": [
    "train_new_meta.to_csv('stats/train-meta.csv', index=False)\n",
    "testmeta.to_csv('stats/test-meta.csv', index=False)"
   ]
  },
  {
   "cell_type": "code",
   "execution_count": 22,
   "metadata": {},
   "outputs": [
    {
     "data": {
      "text/plain": [
       "(22350, 1)"
      ]
     },
     "execution_count": 22,
     "metadata": {},
     "output_type": "execute_result"
    },
    {
     "data": {
      "text/plain": [
       "(500, 1)"
      ]
     },
     "execution_count": 22,
     "metadata": {},
     "output_type": "execute_result"
    }
   ],
   "source": [
    "train_new_meta.shape\n",
    "testmeta.shape"
   ]
  }
 ],
 "metadata": {
  "kernelspec": {
   "display_name": "gssai",
   "language": "python",
   "name": "python3"
  },
  "language_info": {
   "codemirror_mode": {
    "name": "ipython",
    "version": 3
   },
   "file_extension": ".py",
   "mimetype": "text/x-python",
   "name": "python",
   "nbconvert_exporter": "python",
   "pygments_lexer": "ipython3",
   "version": "3.10.14"
  }
 },
 "nbformat": 4,
 "nbformat_minor": 2
}
